{
 "cells": [
  {
   "cell_type": "markdown",
   "id": "369cf658",
   "metadata": {},
   "source": [
    "# Data Scraping Capstone\n",
    "\n"
   ]
  },
  {
   "cell_type": "markdown",
   "id": "a632107e",
   "metadata": {},
   "source": [
    "Background: In this notebook, we will scrape the top 7 films in 2021 according to IMDb, from IMDb's website. We aim to get the IMDb rating, Metascores, as well as the # of votes each top films has received."
   ]
  },
  {
   "cell_type": "markdown",
   "id": "b30e9f07",
   "metadata": {},
   "source": [
    "To start, we need to import requests in order to get the raw HTML data of the targeted link. We then use \"requests.get\" to do so and save it under \"url_get\"."
   ]
  },
  {
   "cell_type": "code",
   "execution_count": 449,
   "id": "5be90425",
   "metadata": {},
   "outputs": [],
   "source": [
    "import requests\n",
    "\n",
    "url_get = requests.get('https://www.imdb.com/search/title/?release_date=2021-01-01,2021-12-31')"
   ]
  },
  {
   "cell_type": "markdown",
   "id": "5c237ea5",
   "metadata": {},
   "source": [
    "Here we show the first 500 characters of the raw HTML data."
   ]
  },
  {
   "cell_type": "code",
   "execution_count": 438,
   "id": "ab4f28c6",
   "metadata": {},
   "outputs": [
    {
     "data": {
      "text/plain": [
       "b'\\n<!DOCTYPE html>\\n<html\\n    xmlns:og=\"http://ogp.me/ns#\"\\n    xmlns:fb=\"http://www.facebook.com/2008/fbml\">\\n    <head>\\n         \\n\\n        <meta charset=\"utf-8\">\\n        <meta http-equiv=\"X-UA-Compatible\" content=\"IE=edge\">\\n\\n\\n\\n\\n        <script type=\"text/javascript\">var IMDbTimer={starttime: new Date().getTime(),pt:\\'java\\'};</script>\\n\\n<script>\\n    if (typeof uet == \\'function\\') {\\n      uet(\"bb\", \"LoadTitle\", {wb: 1});\\n    }\\n</script>\\n  <script>(function(t){ (t.events = t.events || {})[\"csm_head_pre_'"
      ]
     },
     "execution_count": 438,
     "metadata": {},
     "output_type": "execute_result"
    }
   ],
   "source": [
    "url_get.content[1:500]"
   ]
  },
  {
   "cell_type": "markdown",
   "id": "0b10d3c6",
   "metadata": {},
   "source": [
    "To start our scraping process, we import the BeautifulSoup package and assign the parsed content from the link to \"soup\"."
   ]
  },
  {
   "cell_type": "code",
   "execution_count": 439,
   "id": "443d65eb",
   "metadata": {},
   "outputs": [],
   "source": [
    "from bs4 import BeautifulSoup \n",
    "soup = BeautifulSoup(url_get.content,\"html.parser\")"
   ]
  },
  {
   "cell_type": "markdown",
   "id": "02cfcde0",
   "metadata": {},
   "source": [
    "We will save the scraped data in \"temp\" before turning it into a dataframe. So we start an empty tuple named \"temp\" before running our scraper."
   ]
  },
  {
   "cell_type": "code",
   "execution_count": null,
   "id": "b1f7dbae",
   "metadata": {},
   "outputs": [],
   "source": [
    "temp = []"
   ]
  },
  {
   "cell_type": "markdown",
   "id": "93011786",
   "metadata": {},
   "source": [
    "We will use a for loop to run our scraper. Logic behind it is that BeautifulSoup's find_all function will return a list of each thing it found, so we'll just loop through it until we get the number of data we need. In our case, 7 data."
   ]
  },
  {
   "cell_type": "markdown",
   "id": "0bc368fd",
   "metadata": {},
   "source": [
    "First, titles. It can easily be found inside 'lister-item-content' attribute. However, it is nested inside a header and an href so wee need to run a \".h3.a\" after getting the data using find_all and add \".text\" to save it as a text."
   ]
  },
  {
   "cell_type": "markdown",
   "id": "feae868d",
   "metadata": {},
   "source": [
    "Ratings, pretty much the same as titles. Just different attribute and because the output is still nested inside some strings,  we need to slice it in order to get the data that we need."
   ]
  },
  {
   "cell_type": "markdown",
   "id": "6bfbb2eb",
   "metadata": {},
   "source": [
    "Scraping metascores also similar to scraping ratings. Just need to change the attribute and slicers."
   ]
  },
  {
   "cell_type": "markdown",
   "id": "117eab3c",
   "metadata": {},
   "source": [
    "Lastly, votes. It nested inside same-named elements so scraping it is a bit different than the others. We use vote.select on the selector to get the data that we need."
   ]
  },
  {
   "cell_type": "code",
   "execution_count": 440,
   "id": "e04e322f",
   "metadata": {},
   "outputs": [],
   "source": [
    "for i in range(0,7):\n",
    "    title = soup.find_all('div',attrs='lister-item-content')[i]\n",
    "    titles = title.h3.a.text\n",
    "    rating = soup.find_all('div',attrs='inline-block ratings-imdb-rating')[i]\n",
    "    ratings = rating.text[2:5]\n",
    "    metascore = soup.find_all('div',attrs='inline-block ratings-metascore')[i]\n",
    "    metascores = metascore.text[1:3]\n",
    "    vote = soup.find_all('div',attrs='lister-item-content')[i]\n",
    "    votes = vote.select('p.sort-num_votes-visible > span:nth-child(2)')[0].text\n",
    "    temp.append((titles,ratings,metascores,votes))"
   ]
  },
  {
   "cell_type": "markdown",
   "id": "49bac0f5",
   "metadata": {},
   "source": [
    "Once we get all the data we want, time to save it into a dataframe. So we import pandas and name the columns as needed."
   ]
  },
  {
   "cell_type": "code",
   "execution_count": 450,
   "id": "7d86d889",
   "metadata": {},
   "outputs": [],
   "source": [
    "import pandas as pd\n",
    "\n",
    "top7 = pd.DataFrame(temp, columns = ('Title', 'IMDb Rating', 'Metascores', 'Votes'))"
   ]
  },
  {
   "cell_type": "markdown",
   "id": "5860f170",
   "metadata": {},
   "source": [
    "Time to clean the data. Both IMDb rating and Metascores are pretty easy to clean. Just need to change its respective type into 'float64'."
   ]
  },
  {
   "cell_type": "code",
   "execution_count": 451,
   "id": "608d98bd",
   "metadata": {},
   "outputs": [],
   "source": [
    "top7['IMDb Rating'] = top7['IMDb Rating'].astype('float64')\n",
    "top7['Metascores'] = top7['Metascores'].astype('float64')"
   ]
  },
  {
   "cell_type": "markdown",
   "id": "40b696d2",
   "metadata": {},
   "source": [
    "Votes, a bit different. It is an object but still contains unwanted characters and if we turn it into strings rightaway, it will return the location of the data which makes things more complicated."
   ]
  },
  {
   "cell_type": "markdown",
   "id": "347c6128",
   "metadata": {},
   "source": [
    "Solution is, we change the Votes' values into list first, and then turn it back inside the dataframe so we can change it into strings. Once it's strings, we just need to remove the unwanted characters before turning it into a float."
   ]
  },
  {
   "cell_type": "code",
   "execution_count": 452,
   "id": "cadab7bf",
   "metadata": {},
   "outputs": [],
   "source": [
    "top7votes = top7['Votes'].values.tolist()\n",
    "top7['Votes'] = top7votes\n",
    "top7['Votes'] = top7['Votes'].astype('str')\n",
    "top7['Votes'] = top7['Votes'].str.replace(',','')\n",
    "top7['Votes'] = top7['Votes'].astype('float64')"
   ]
  },
  {
   "cell_type": "markdown",
   "id": "97939a24",
   "metadata": {},
   "source": [
    "Below we can see our cleaned dataframe."
   ]
  },
  {
   "cell_type": "code",
   "execution_count": 444,
   "id": "cec93e90",
   "metadata": {},
   "outputs": [
    {
     "data": {
      "text/html": [
       "<div>\n",
       "<style scoped>\n",
       "    .dataframe tbody tr th:only-of-type {\n",
       "        vertical-align: middle;\n",
       "    }\n",
       "\n",
       "    .dataframe tbody tr th {\n",
       "        vertical-align: top;\n",
       "    }\n",
       "\n",
       "    .dataframe thead th {\n",
       "        text-align: right;\n",
       "    }\n",
       "</style>\n",
       "<table border=\"1\" class=\"dataframe\">\n",
       "  <thead>\n",
       "    <tr style=\"text-align: right;\">\n",
       "      <th></th>\n",
       "      <th>Title</th>\n",
       "      <th>IMDb Rating</th>\n",
       "      <th>Metascores</th>\n",
       "      <th>Votes</th>\n",
       "    </tr>\n",
       "  </thead>\n",
       "  <tbody>\n",
       "    <tr>\n",
       "      <th>0</th>\n",
       "      <td>Don't Look Up</td>\n",
       "      <td>7.3</td>\n",
       "      <td>49.0</td>\n",
       "      <td>308027.0</td>\n",
       "    </tr>\n",
       "    <tr>\n",
       "      <th>1</th>\n",
       "      <td>Spider-Man: No Way Home</td>\n",
       "      <td>8.8</td>\n",
       "      <td>71.0</td>\n",
       "      <td>365308.0</td>\n",
       "    </tr>\n",
       "    <tr>\n",
       "      <th>2</th>\n",
       "      <td>The Matrix Resurrections</td>\n",
       "      <td>5.7</td>\n",
       "      <td>63.0</td>\n",
       "      <td>148736.0</td>\n",
       "    </tr>\n",
       "    <tr>\n",
       "      <th>3</th>\n",
       "      <td>Encanto</td>\n",
       "      <td>7.3</td>\n",
       "      <td>76.0</td>\n",
       "      <td>75262.0</td>\n",
       "    </tr>\n",
       "    <tr>\n",
       "      <th>4</th>\n",
       "      <td>The Book of Boba Fett</td>\n",
       "      <td>8.1</td>\n",
       "      <td>44.0</td>\n",
       "      <td>16515.0</td>\n",
       "    </tr>\n",
       "    <tr>\n",
       "      <th>5</th>\n",
       "      <td>1883</td>\n",
       "      <td>9.1</td>\n",
       "      <td>90.0</td>\n",
       "      <td>13024.0</td>\n",
       "    </tr>\n",
       "    <tr>\n",
       "      <th>6</th>\n",
       "      <td>The Wheel of Time</td>\n",
       "      <td>7.2</td>\n",
       "      <td>89.0</td>\n",
       "      <td>73054.0</td>\n",
       "    </tr>\n",
       "  </tbody>\n",
       "</table>\n",
       "</div>"
      ],
      "text/plain": [
       "                      Title  IMDb Rating  Metascores     Votes\n",
       "0             Don't Look Up          7.3        49.0  308027.0\n",
       "1   Spider-Man: No Way Home          8.8        71.0  365308.0\n",
       "2  The Matrix Resurrections          5.7        63.0  148736.0\n",
       "3                   Encanto          7.3        76.0   75262.0\n",
       "4     The Book of Boba Fett          8.1        44.0   16515.0\n",
       "5                      1883          9.1        90.0   13024.0\n",
       "6         The Wheel of Time          7.2        89.0   73054.0"
      ]
     },
     "execution_count": 444,
     "metadata": {},
     "output_type": "execute_result"
    }
   ],
   "source": [
    "top7"
   ]
  },
  {
   "cell_type": "markdown",
   "id": "32e6b83b",
   "metadata": {},
   "source": [
    "Next, to visualize the dataframe we're gonna need to import matplotlib."
   ]
  },
  {
   "cell_type": "code",
   "execution_count": 453,
   "id": "71de1a82",
   "metadata": {},
   "outputs": [],
   "source": [
    "import matplotlib.pyplot as plt"
   ]
  },
  {
   "cell_type": "markdown",
   "id": "8946f75f",
   "metadata": {},
   "source": [
    "Plotting is really straightforward. Just need to use the .bar to visualize in in bars, .title to change the title, and turn the xlabels 90 degrees as the movie titles will be too long to visualize if we don't. We do this to each visualizeable variables. "
   ]
  },
  {
   "cell_type": "code",
   "execution_count": 454,
   "id": "253dd8be",
   "metadata": {},
   "outputs": [
    {
     "data": {
      "image/png": "[encoded data removed]",
      "text/plain": [
       "<Figure size 432x288 with 1 Axes>"
      ]
     },
     "metadata": {
      "needs_background": "light"
     },
     "output_type": "display_data"
    }
   ],
   "source": [
    "plt.bar(top7['Title'], top7['Votes'])\n",
    "plt.title('Votes count of the top 7 films in 2021')\n",
    "votesplot = plt.xticks(rotation=90)"
   ]
  },
  {
   "cell_type": "code",
   "execution_count": 455,
   "id": "b72deee0",
   "metadata": {},
   "outputs": [
    {
     "data": {
      "image/png": "[encoded data removed]",
      "text/plain": [
       "<Figure size 432x288 with 1 Axes>"
      ]
     },
     "metadata": {
      "needs_background": "light"
     },
     "output_type": "display_data"
    }
   ],
   "source": [
    "plt.bar(top7['Title'], top7['IMDb Rating'])\n",
    "plt.title('IMDb ratings of the top 7 films in 2021')\n",
    "ratingsplot = plt.xticks(rotation=90)"
   ]
  },
  {
   "cell_type": "code",
   "execution_count": 456,
   "id": "f873b668",
   "metadata": {},
   "outputs": [
    {
     "data": {
      "image/png": "[encoded data removed]",
      "text/plain": [
       "<Figure size 432x288 with 1 Axes>"
      ]
     },
     "metadata": {
      "needs_background": "light"
     },
     "output_type": "display_data"
    }
   ],
   "source": [
    "plt.bar(top7['Title'], top7['Metascores'])\n",
    "plt.title('Metascores of the top 7 films in 2021')\n",
    "metascoresplot = plt.xticks(rotation=90)"
   ]
  },
  {
   "cell_type": "markdown",
   "id": "74593b2a",
   "metadata": {},
   "source": [
    "End of notebook. Please run all above."
   ]
  }
 ],
 "metadata": {
  "kernelspec": {
   "display_name": "capstone1",
   "language": "python",
   "name": "capstone1"
  },
  "language_info": {
   "codemirror_mode": {
    "name": "ipython",
    "version": 3
   },
   "file_extension": ".py",
   "mimetype": "text/x-python",
   "name": "python",
   "nbconvert_exporter": "python",
   "pygments_lexer": "ipython3",
   "version": "3.9.7"
  }
 },
 "nbformat": 4,
 "nbformat_minor": 5
}
